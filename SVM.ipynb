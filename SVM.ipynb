{
 "cells": [
  {
   "cell_type": "markdown",
   "metadata": {},
   "source": [
    "# SVM for classification, without and with kernels\n",
    "\n",
    "In this notebook we are going to explore the use of Support Vector Machines (SVMs) for image classification. We are going to use the famous MNIST dataset, that is a dataset of handwritten digits. We get the data from mldata.org, that is a public repository for machine learning data.\n",
    "\n",
    "The dataset consists of 70,000 images of handwritten digits (i.e., 0, 1, ... 9). Each image is 28 pixels by 28 pixels and we can think of it as a vector of 28x28 = 784 numbers. Each number is an integer between 0 and 255. For each image we have the corresponding label (i.e., 0, 1, ..., 9)."
   ]
  },
  {
   "cell_type": "code",
   "execution_count": 3,
   "metadata": {},
   "outputs": [],
   "source": [
    "#load the required packages\n",
    "\n",
    "%matplotlib inline  \n",
    "\n",
    "import numpy as np\n",
    "import matplotlib.pyplot as plt\n",
    "import sklearn\n",
    "from sklearn.datasets import fetch_openml\n"
   ]
  },
  {
   "cell_type": "code",
   "execution_count": 4,
   "metadata": {},
   "outputs": [],
   "source": [
    "np.random.seed(65656)"
   ]
  },
  {
   "cell_type": "markdown",
   "metadata": {},
   "source": [
    "Now let's load the dataset. 'data' contains the input, 'target' contains the label. We normalize the data by dividing each value by 255 so that each value is in [0,1]"
   ]
  },
  {
   "cell_type": "code",
   "execution_count": 5,
   "metadata": {
    "scrolled": true
   },
   "outputs": [],
   "source": [
    "#load the MNIST dataset and let's normalize the features so that each value is in [0,1]\n",
    "mnist = fetch_openml('mnist_784', version=1)\n",
    "\n",
    "# rescale the data\n",
    "X, y = mnist.data / 255., mnist.target\n",
    "\n",
    "#X,y = loadlocal_minst(images_path='train-images-idx3-ubyte',labels_path='train-labels-idx1-ubyte')\n"
   ]
  },
  {
   "cell_type": "markdown",
   "metadata": {},
   "source": [
    "Now split into training and test. We keep 500 samples in the training set. Make sure that each label is present at least 10 times in training. If it is not, then keep adding permutations to the initial data until this happens.\n",
    "\n"
   ]
  },
  {
   "cell_type": "code",
   "execution_count": 6,
   "metadata": {},
   "outputs": [
    {
     "name": "stdout",
     "output_type": "stream",
     "text": [
      "Labels and frequencies in training dataset: \n"
     ]
    },
    {
     "data": {
      "text/plain": [
       "(array(['0', '1', '2', '3', '4', '5', '6', '7', '8', '9'], dtype=object),\n",
       " array([48, 46, 55, 51, 54, 44, 55, 50, 45, 52], dtype=int64))"
      ]
     },
     "execution_count": 6,
     "metadata": {},
     "output_type": "execute_result"
    }
   ],
   "source": [
    "#random permute the data and split into training and test taking the first 500\n",
    "#data samples as training and the rests as test\n",
    "permutation = np.random.permutation(X.shape[0])\n",
    "\n",
    "X = X[permutation]\n",
    "y = y[permutation]\n",
    "\n",
    "m_training = 500\n",
    "\n",
    "X_train, X_test = X[:m_training], X[m_training:]\n",
    "y_train, y_test = y[:m_training], y[m_training:]\n",
    "\n",
    "print(\"Labels and frequencies in training dataset: \")\n",
    "np.unique(y_train, return_counts = True)\n"
   ]
  },
  {
   "cell_type": "markdown",
   "metadata": {},
   "source": [
    "We now provide a function to print an image in a dataset, the corresponding true label, and the index of the image in the dataset."
   ]
  },
  {
   "cell_type": "code",
   "execution_count": 7,
   "metadata": {},
   "outputs": [],
   "source": [
    "#function for plotting a digit and printing the corresponding label\n",
    "def plot_digit(X_matrix, labels, index):\n",
    "    print(\"INPUT:\")\n",
    "    plt.imshow(\n",
    "        X_matrix[index].reshape(28,28),\n",
    "        cmap          = plt.cm.gray_r,\n",
    "        interpolation = \"nearest\"\n",
    "    )\n",
    "    plt.show()\n",
    "    print(\"LABEL: %s\" % labels[index])\n",
    "    return"
   ]
  },
  {
   "cell_type": "markdown",
   "metadata": {},
   "source": [
    "As an example, let's print the 100-th image in X_train and the 40,000-th image in X_test and their true labels."
   ]
  },
  {
   "cell_type": "code",
   "execution_count": 8,
   "metadata": {},
   "outputs": [
    {
     "name": "stdout",
     "output_type": "stream",
     "text": [
      "INPUT:\n"
     ]
    },
    {
     "data": {
      "image/png": "[encoded data removed]",
      "text/plain": [
       "<Figure size 432x288 with 1 Axes>"
      ]
     },
     "metadata": {
      "needs_background": "light"
     },
     "output_type": "display_data"
    },
    {
     "name": "stdout",
     "output_type": "stream",
     "text": [
      "LABEL: 9\n",
      "INPUT:\n"
     ]
    },
    {
     "data": {
      "image/png": "[encoded data removed]",
      "text/plain": [
       "<Figure size 432x288 with 1 Axes>"
      ]
     },
     "metadata": {
      "needs_background": "light"
     },
     "output_type": "display_data"
    },
    {
     "name": "stdout",
     "output_type": "stream",
     "text": [
      "LABEL: 5\n"
     ]
    }
   ],
   "source": [
    "#let's try the plotting function\n",
    "plot_digit(X_train,y_train,100)\n",
    "plot_digit(X_test,y_test,40000)"
   ]
  },
  {
   "cell_type": "markdown",
   "metadata": {},
   "source": [
    "## SVM (Linear(without Kernel), Polynomial, RBF)\n",
    "Run SVM with cross validation to pick a kernel and values of parameters. Use a 5-fold cross-validation to pick the best kernel and choice of parameters. We provide some potential choice for parameters, but change the grid if needed (e.g., it takes too long). For the SVM for classification use SVC from sklearn.svm; for the grid search we suggest you use GridSearchCV from sklearn.model_selection, but you can implement your own cross-validation for model selection if you prefer.\n",
    "\n",
    "Print the best parameters used as well as the score obtained by the best model"
   ]
  },
  {
   "cell_type": "code",
   "execution_count": 9,
   "metadata": {},
   "outputs": [
    {
     "name": "stdout",
     "output_type": "stream",
     "text": [
      "RESULTS FOR LINEAR KERNEL\n",
      "\n",
      "Best parameters set found:\n",
      "{'C': 1}\n",
      "Score with best parameters:\n",
      "0.8300000000000001\n",
      "\n",
      "All scores on the grid:\n",
      "{'mean_fit_time': array([0.1935791 , 0.12438412, 0.13949671]), 'std_fit_time': array([0.12104839, 0.00872763, 0.00993347]), 'mean_score_time': array([0.03648362, 0.02818861, 0.04151487]), 'std_score_time': array([0.01383855, 0.00500598, 0.01753234]), 'param_C': masked_array(data=[1, 10, 100],\n",
      "             mask=[False, False, False],\n",
      "       fill_value='?',\n",
      "            dtype=object), 'params': [{'C': 1}, {'C': 10}, {'C': 100}], 'split0_test_score': array([0.81, 0.81, 0.81]), 'split1_test_score': array([0.83, 0.83, 0.83]), 'split2_test_score': array([0.81, 0.81, 0.81]), 'split3_test_score': array([0.86, 0.86, 0.86]), 'split4_test_score': array([0.84, 0.84, 0.84]), 'mean_test_score': array([0.83, 0.83, 0.83]), 'std_test_score': array([0.01897367, 0.01897367, 0.01897367]), 'rank_test_score': array([1, 1, 1])}\n",
      "\n",
      "RESULTS FOR POLY DEGREE=2 KERNEL\n",
      "\n",
      "Best parameters set found:\n",
      "{'C': 1, 'gamma': 0.1}\n",
      "Score with best parameters:\n",
      "0.8559999999999999\n",
      "\n",
      "All scores on the grid:\n",
      "{'mean_fit_time': array([0.20647979, 0.18468781, 0.16837559, 0.16059856, 0.16168871,\n",
      "       0.1620995 , 0.16285453, 0.16347528, 0.16102738]), 'std_fit_time': array([0.01818746, 0.02260794, 0.00398431, 0.00386222, 0.0009809 ,\n",
      "       0.00575088, 0.00721365, 0.00670672, 0.00051766]), 'mean_score_time': array([0.03901868, 0.0333292 , 0.02744198, 0.02983565, 0.02781734,\n",
      "       0.02951002, 0.02741075, 0.02894111, 0.03003364]), 'std_score_time': array([0.00906305, 0.00601161, 0.00442019, 0.00080795, 0.00390669,\n",
      "       0.00090856, 0.00272671, 0.00353736, 0.0009875 ]), 'param_C': masked_array(data=[1, 1, 1, 10, 10, 10, 100, 100, 100],\n",
      "             mask=[False, False, False, False, False, False, False, False,\n",
      "                   False],\n",
      "       fill_value='?',\n",
      "            dtype=object), 'param_gamma': masked_array(data=[0.01, 0.1, 1.0, 0.01, 0.1, 1.0, 0.01, 0.1, 1.0],\n",
      "             mask=[False, False, False, False, False, False, False, False,\n",
      "                   False],\n",
      "       fill_value='?',\n",
      "            dtype=object), 'params': [{'C': 1, 'gamma': 0.01}, {'C': 1, 'gamma': 0.1}, {'C': 1, 'gamma': 1.0}, {'C': 10, 'gamma': 0.01}, {'C': 10, 'gamma': 0.1}, {'C': 10, 'gamma': 1.0}, {'C': 100, 'gamma': 0.01}, {'C': 100, 'gamma': 0.1}, {'C': 100, 'gamma': 1.0}], 'split0_test_score': array([0.82, 0.85, 0.85, 0.85, 0.85, 0.85, 0.85, 0.85, 0.85]), 'split1_test_score': array([0.81, 0.84, 0.84, 0.84, 0.84, 0.84, 0.84, 0.84, 0.84]), 'split2_test_score': array([0.81, 0.84, 0.84, 0.84, 0.84, 0.84, 0.84, 0.84, 0.84]), 'split3_test_score': array([0.8 , 0.86, 0.86, 0.86, 0.86, 0.86, 0.86, 0.86, 0.86]), 'split4_test_score': array([0.84, 0.89, 0.89, 0.88, 0.89, 0.89, 0.89, 0.89, 0.89]), 'mean_test_score': array([0.816, 0.856, 0.856, 0.854, 0.856, 0.856, 0.856, 0.856, 0.856]), 'std_test_score': array([0.01356466, 0.01854724, 0.01854724, 0.01496663, 0.01854724,\n",
      "       0.01854724, 0.01854724, 0.01854724, 0.01854724]), 'rank_test_score': array([9, 1, 1, 8, 1, 1, 1, 1, 1])}\n",
      "\n",
      "RESULTS FOR rbf KERNEL\n",
      "\n",
      "Best parameters set found:\n",
      "{'C': 10, 'gamma': 0.01}\n",
      "Score with best parameters:\n",
      "0.866\n",
      "\n",
      "All scores on the grid:\n",
      "{'mean_fit_time': array([0.19041462, 0.28290563, 0.30356483, 0.21316776, 0.29295177,\n",
      "       0.32410965, 0.21360965, 0.28218498, 0.30874553]), 'std_fit_time': array([0.00209017, 0.00160496, 0.0046258 , 0.00323738, 0.01228745,\n",
      "       0.01986798, 0.0053941 , 0.00024961, 0.00380256]), 'mean_score_time': array([0.03685994, 0.0384069 , 0.0351346 , 0.03274436, 0.03754559,\n",
      "       0.03860526, 0.03225121, 0.03831129, 0.0384583 ]), 'std_score_time': array([0.00653732, 0.00318451, 0.00350596, 0.003126  , 0.00589345,\n",
      "       0.00523461, 0.00344197, 0.00335378, 0.00317319]), 'param_C': masked_array(data=[1, 1, 1, 10, 10, 10, 100, 100, 100],\n",
      "             mask=[False, False, False, False, False, False, False, False,\n",
      "                   False],\n",
      "       fill_value='?',\n",
      "            dtype=object), 'param_gamma': masked_array(data=[0.01, 0.1, 1.0, 0.01, 0.1, 1.0, 0.01, 0.1, 1.0],\n",
      "             mask=[False, False, False, False, False, False, False, False,\n",
      "                   False],\n",
      "       fill_value='?',\n",
      "            dtype=object), 'params': [{'C': 1, 'gamma': 0.01}, {'C': 1, 'gamma': 0.1}, {'C': 1, 'gamma': 1.0}, {'C': 10, 'gamma': 0.01}, {'C': 10, 'gamma': 0.1}, {'C': 10, 'gamma': 1.0}, {'C': 100, 'gamma': 0.01}, {'C': 100, 'gamma': 0.1}, {'C': 100, 'gamma': 1.0}], 'split0_test_score': array([0.84, 0.51, 0.13, 0.86, 0.52, 0.14, 0.86, 0.52, 0.14]), 'split1_test_score': array([0.86, 0.52, 0.12, 0.85, 0.57, 0.12, 0.85, 0.57, 0.12]), 'split2_test_score': array([0.82, 0.5 , 0.12, 0.83, 0.55, 0.12, 0.83, 0.55, 0.12]), 'split3_test_score': array([0.87, 0.5 , 0.12, 0.91, 0.53, 0.12, 0.91, 0.53, 0.12]), 'split4_test_score': array([0.86, 0.44, 0.13, 0.88, 0.49, 0.13, 0.88, 0.49, 0.13]), 'mean_test_score': array([0.85 , 0.494, 0.124, 0.866, 0.532, 0.126, 0.866, 0.532, 0.126]), 'std_test_score': array([0.01788854, 0.028     , 0.00489898, 0.02727636, 0.02712932,\n",
      "       0.008     , 0.02727636, 0.02712932, 0.008     ]), 'rank_test_score': array([3, 6, 9, 1, 4, 7, 1, 4, 7])}\n"
     ]
    }
   ],
   "source": [
    "#import SVC\n",
    "from sklearn.svm import SVC\n",
    "#import for Cross-Validation\n",
    "from sklearn.model_selection import GridSearchCV\n",
    "\n",
    "# parameters for linear SVM\n",
    "parameters = {'C': [1, 10, 100]}\n",
    "\n",
    "#run linear SVM\n",
    "linear_SVM = SVC(kernel='linear')\n",
    "\n",
    "#find best model uusing 5-fold CV \n",
    "#and train it using all the training data\n",
    "\n",
    "gridSearch = GridSearchCV(linear_SVM, parameters, cv=5,scoring='accuracy')\n",
    "gridSearch.fit(X_train,y_train)\n",
    "print ('RESULTS FOR LINEAR KERNEL\\n')\n",
    "\n",
    "print(\"Best parameters set found:\")\n",
    "print(gridSearch.best_params_)\n",
    "\n",
    "print(\"Score with best parameters:\")\n",
    "print(gridSearch.best_score_)\n",
    "\n",
    "print(\"\\nAll scores on the grid:\")\n",
    "print(gridSearch.cv_results_)\n",
    "\n",
    "# parameters for poly with degree 2 kernel\n",
    "parameters = {'C': [1, 10, 100],'gamma':[0.01,0.1,1.]}\n",
    "\n",
    "#run SVM with poly of degree 2 kernel\n",
    "poly2_SVM = SVC(kernel='poly',degree=2)\n",
    "\n",
    "# ADD CODE: DO THE SAME AS ABOVE FOR POLYNOMIAL KERNEL WITH DEGREE=2\n",
    "grid = GridSearchCV(poly2_SVM, parameters,scoring='accuracy')\n",
    "grid.fit(X_train,y_train)\n",
    "print ('\\nRESULTS FOR POLY DEGREE=2 KERNEL\\n')\n",
    "\n",
    "print(\"Best parameters set found:\")\n",
    "print(grid.best_params_)\n",
    "\n",
    "print(\"Score with best parameters:\")\n",
    "print(grid.best_score_)\n",
    "\n",
    "print(\"\\nAll scores on the grid:\")\n",
    "print(grid.cv_results_)\n",
    "\n",
    "# parameters for rbf SVM\n",
    "parameters = {'C': [1, 10, 100],'gamma':[0.01,0.1,1.]}\n",
    "\n",
    "#run SVM with rbf kernel\n",
    "rbf_SVM = SVC(kernel='rbf')\n",
    "# ADD CODE: DO THE SAME AS ABOVE FOR RBF KERNEL\n",
    "\n",
    "grid2 = GridSearchCV(rbf_SVM,parameters,scoring='accuracy')\n",
    "grid2.fit(X_train,y_train)\n",
    "\n",
    "print ('\\nRESULTS FOR rbf KERNEL\\n')\n",
    "\n",
    "print(\"Best parameters set found:\")\n",
    "print(grid2.best_params_)\n",
    "\n",
    "print(\"Score with best parameters:\")\n",
    "print(grid2.best_score_)\n",
    "\n",
    "print(\"\\nAll scores on the grid:\")\n",
    "print(grid2.cv_results_)"
   ]
  },
  {
   "cell_type": "markdown",
   "metadata": {},
   "source": [
    "For the \"best\" SVM kernel and choice of parameters from above, train the model on the entire training set and measure the training error. Also make predictions on the test set and measure the test error. Print the training and the test error."
   ]
  },
  {
   "cell_type": "code",
   "execution_count": 10,
   "metadata": {},
   "outputs": [
    {
     "name": "stdout",
     "output_type": "stream",
     "text": [
      "Best SVM training error: 0.000000\n",
      "Best SVM test error: 0.070613\n"
     ]
    }
   ],
   "source": [
    "#get training and test error for the best SVM model from CV\n",
    "best_SVM = GridSearchCV(rbf_SVM,parameters,scoring='accuracy')\n",
    "\n",
    "# fit the model on the entire training set\n",
    "permutation = np.random.permutation(X.shape[0])\n",
    "\n",
    "X = X[permutation]\n",
    "y = y[permutation]\n",
    "\n",
    "m_training = 1500\n",
    "\n",
    "X_train, X_test = X[:m_training], X[m_training:]\n",
    "y_train, y_test = y[:m_training], y[m_training:]\n",
    "\n",
    "best_SVM.fit(X_train, y_train)\n",
    "\n",
    "#get the training and test error\n",
    "training_error = 1. - best_SVM.score(X_train,y_train)\n",
    "test_error = 1. - best_SVM.score(X_test,y_test)\n",
    "\n",
    "print (\"Best SVM training error: %f\" % training_error)\n",
    "print (\"Best SVM test error: %f\" % test_error)"
   ]
  },
  {
   "cell_type": "markdown",
   "metadata": {},
   "source": [
    "## Use logistic regression for comparison\n",
    "\n",
    "Just for comparison let's also use logistic regression, first with the default values of the parameter for regularization and then with cross-validation to fix the value of the parameter. For cross validation, use 5-fold cross validation and the default values of the regularization parameters for the function linear_model.LogisticRegressionCV(...)"
   ]
  },
  {
   "cell_type": "code",
   "execution_count": 11,
   "metadata": {},
   "outputs": [
    {
     "name": "stdout",
     "output_type": "stream",
     "text": [
      "Best logistic regression training error: 0.000667\n",
      "Best logistic regression test error: 0.129051\n",
      "Best logistic regression training error: 0.944000\n",
      "Best logistic regression test error: 0.879343\n"
     ]
    }
   ],
   "source": [
    "from sklearn import linear_model\n",
    "\n",
    "lr = linear_model.LogisticRegression(solver='lbfgs', max_iter=1000)\n",
    "# fit the model on the training data\n",
    "lr.fit(X_train,y_train)\n",
    "\n",
    "#compute training and test error for model above\n",
    "training_error = 1. - lr.score(X_train,y_train)\n",
    "test_error = 1. - lr.score(X_test,y_test)\n",
    "\n",
    "print (\"Best logistic regression training error: %f\" % training_error)\n",
    "print (\"Best logistic regression test error: %f\" % test_error)\n",
    "\n",
    "#logistic regression with 5-fold CV: you can use use linear_model.LogisticRegressionCV\n",
    "# use 5-fold CV to find the best choice of the parameter, than train\n",
    "# the model on the entire training set\n",
    "lr_cv = linear_model.LogisticRegressionCV(cv=5, random_state=0,max_iter=1000)\n",
    "lr_cv.fit(X_train,y_train)\n",
    "training_error_cv = lr_cv.score(X_train,y_train)\n",
    "test_error_cv = lr_cv.score(X_test,y_test)\n",
    "\n",
    "print (\"Best logistic regression training error: %f\" % training_error_cv)\n",
    "print (\"Best logistic regression test error: %f\" % test_error_cv)"
   ]
  },
  {
   "cell_type": "markdown",
   "metadata": {},
   "source": [
    "Compare and comment the results from SVM and logistic regression."
   ]
  },
  {
   "cell_type": "markdown",
   "metadata": {},
   "source": [
    "**ANSWER** : SVM training error is : 0.000000, SVM test error is : 0.109050 and for the logistic regression training error is : 0.000000, logistic regression test error is : 0.164014 So SVM is better than the Logistic regression."
   ]
  },
  {
   "cell_type": "markdown",
   "metadata": {},
   "source": [
    "\n",
    "Write the code that finds and plots a digit that is missclassified by logistic regression (optimized for the regularization parameter) and correctly classified by the \"best\" SVM."
   ]
  },
  {
   "cell_type": "code",
   "execution_count": 12,
   "metadata": {},
   "outputs": [
    {
     "name": "stdout",
     "output_type": "stream",
     "text": [
      "30\n",
      "INPUT:\n"
     ]
    },
    {
     "data": {
      "image/png": "[encoded data removed]",
      "text/plain": [
       "<Figure size 432x288 with 1 Axes>"
      ]
     },
     "metadata": {
      "needs_background": "light"
     },
     "output_type": "display_data"
    },
    {
     "name": "stdout",
     "output_type": "stream",
     "text": [
      "LABEL: 4\n",
      "INPUT:\n"
     ]
    },
    {
     "data": {
      "image/png": "[encoded data removed]",
      "text/plain": [
       "<Figure size 432x288 with 1 Axes>"
      ]
     },
     "metadata": {
      "needs_background": "light"
     },
     "output_type": "display_data"
    },
    {
     "name": "stdout",
     "output_type": "stream",
     "text": [
      "LABEL: 2\n"
     ]
    }
   ],
   "source": [
    "from sklearn import linear_model\n",
    "\n",
    "lr = linear_model.LogisticRegression(solver='lbfgs',max_iter=1000)\n",
    "lr.fit(X_train, y_train)\n",
    "Ytraining_predicted_test = lr.predict(X_test)\n",
    "\n",
    "best_SVM = GridSearchCV(rbf_SVM, parameters ,scoring='accuracy')\n",
    "best_SVM.fit(X_train, y_train)\n",
    "Ysvm_predicted_test = best_SVM.predict(X_test)\n",
    "\n",
    "error_rate_test=0 \n",
    "for i in range(y_test.shape[0]): \n",
    "    if y_test[i] != Ytraining_predicted_test[i] and y_test[i] ==Ysvm_predicted_test[i]:\n",
    "        error_rate_test = i\n",
    "        break\n",
    "print(error_rate_test)\n",
    "plot_digit(X_test,Ytraining_predicted_test,i)\n",
    "plot_digit(X_test,Ysvm_predicted_test,i)"
   ]
  },
  {
   "cell_type": "markdown",
   "metadata": {},
   "source": [
    "## More data\n",
    "Now let's do the same but using 1000 data points for training. \n",
    "\n",
    "Repeat the entire analysis above using 1000 samples. Of course you can copy the code from above."
   ]
  },
  {
   "cell_type": "code",
   "execution_count": 13,
   "metadata": {},
   "outputs": [
    {
     "name": "stdout",
     "output_type": "stream",
     "text": [
      "Best SVM training error: 0.000000\n",
      "Best SVM test error: 0.083145\n",
      "Best logistic regression training error: 0.000000\n",
      "Best logistic regression test error: 0.135043\n",
      "Best logistic regression training error: 0.994000\n",
      "Best logistic regression test error: 0.868449\n",
      "0\n",
      "INPUT:\n"
     ]
    },
    {
     "data": {
      "image/png": "[encoded data removed]",
      "text/plain": [
       "<Figure size 432x288 with 1 Axes>"
      ]
     },
     "metadata": {
      "needs_background": "light"
     },
     "output_type": "display_data"
    },
    {
     "name": "stdout",
     "output_type": "stream",
     "text": [
      "LABEL: 0\n",
      "INPUT:\n"
     ]
    },
    {
     "data": {
      "image/png": "[encoded data removed]",
      "text/plain": [
       "<Figure size 432x288 with 1 Axes>"
      ]
     },
     "metadata": {
      "needs_background": "light"
     },
     "output_type": "display_data"
    },
    {
     "name": "stdout",
     "output_type": "stream",
     "text": [
      "LABEL: 5\n"
     ]
    }
   ],
   "source": [
    "m_training = 1000\n",
    "\n",
    "X_train, X_test = X[:m_training], X[m_training:]\n",
    "y_train, y_test = y[:m_training], y[m_training:]\n",
    "\n",
    "best_SVM.fit(X_train, y_train)\n",
    "\n",
    "#get the training and test error\n",
    "training_error = 1. - best_SVM.score(X_train,y_train)\n",
    "test_error = 1. - best_SVM.score(X_test,y_test)\n",
    "\n",
    "print (\"Best SVM training error: %f\" % training_error)\n",
    "print (\"Best SVM test error: %f\" % test_error)\n",
    "\n",
    "\n",
    "lr = linear_model.LogisticRegression(solver='lbfgs', max_iter=1000)\n",
    "# fit the model on the training data\n",
    "lr.fit(X_train,y_train)\n",
    "\n",
    "#compute training and test error for model above\n",
    "training_error = 1. - lr.score(X_train,y_train)\n",
    "test_error = 1. - lr.score(X_test,y_test)\n",
    "\n",
    "print (\"Best logistic regression training error: %f\" % training_error)\n",
    "print (\"Best logistic regression test error: %f\" % test_error)\n",
    "\n",
    "\n",
    "lr_cv = linear_model.LogisticRegressionCV(cv=5, random_state=0,max_iter=1000)\n",
    "lr_cv.fit(X_train,y_train)\n",
    "training_error_cv = lr_cv.score(X_train,y_train)\n",
    "test_error_cv = lr_cv.score(X_test,y_test)\n",
    "\n",
    "print (\"Best logistic regression training error: %f\" % training_error_cv)\n",
    "print (\"Best logistic regression test error: %f\" % test_error_cv)\n",
    "\n",
    "\n",
    "lr = linear_model.LogisticRegression(solver='lbfgs',max_iter=1000)\n",
    "lr.fit(X_train, y_train)\n",
    "Ytraining_predicted_test = lr.predict(X_test)\n",
    "\n",
    "best_SVM = GridSearchCV(rbf_SVM, parameters ,scoring='accuracy')\n",
    "best_SVM.fit(X_train, y_train)\n",
    "Ysvm_predicted_test = best_SVM.predict(X_test)\n",
    "\n",
    "error_rate_test=0 \n",
    "for i in range(y_test.shape[0]): \n",
    "    if y_test[i] != Ytraining_predicted_test[i] and y_test[i] ==Ysvm_predicted_test[i]:\n",
    "        error_rate_test = i\n",
    "        break\n",
    "print(error_rate_test)\n",
    "plot_digit(X_test,Ytraining_predicted_test,i)\n",
    "plot_digit(X_test,Ysvm_predicted_test,i)"
   ]
  },
  {
   "cell_type": "markdown",
   "metadata": {},
   "source": [
    "Compare and comment on the differences with the results above."
   ]
  },
  {
   "cell_type": "markdown",
   "metadata": {},
   "source": [
    "**Answer** : \n",
    "\n",
    "For 1500 samples \n",
    "\n",
    "Best SVM training error: 0.000000\n",
    "Best SVM test error: 0.073620\n",
    "Best logistic regression training error: 0.000667\n",
    "Best logistic regression test error: 0.122102\n",
    "Best logistic regression with 5-fold CV training error: 0.946000\n",
    "Best logistic regression with 5-fold CV test error: 0.878511\n",
    "\n",
    "For 1000 samples\n",
    "\n",
    "Best SVM training error: 0.000000\n",
    "Best SVM test error: 0.087536\n",
    "Best logistic regression training error: 0.000000\n",
    "Best logistic regression test error: 0.136928\n",
    "Best logistic regression with 5-fold CV training error: 0.946000\n",
    "Best logistic regression with 5-fold CV test error: 0.864696"
   ]
  },
  {
   "cell_type": "code",
   "execution_count": null,
   "metadata": {},
   "outputs": [],
   "source": []
  }
 ],
 "metadata": {
  "kernelspec": {
   "display_name": "Python 3",
   "language": "python",
   "name": "python3"
  },
  "language_info": {
   "codemirror_mode": {
    "name": "ipython",
    "version": 3
   },
   "file_extension": ".py",
   "mimetype": "text/x-python",
   "name": "python",
   "nbconvert_exporter": "python",
   "pygments_lexer": "ipython3",
   "version": "3.8.5"
  }
 },
 "nbformat": 4,
 "nbformat_minor": 4
}
